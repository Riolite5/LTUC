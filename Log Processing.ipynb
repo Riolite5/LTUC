{
 "cells": [
  {
   "cell_type": "markdown",
   "metadata": {},
   "source": [
    "#### Import relevant libraries"
   ]
  },
  {
   "cell_type": "code",
   "execution_count": 1,
   "metadata": {},
   "outputs": [],
   "source": [
    "import pandas as pd\n",
    "import seaborn as sns\n",
    "from datetime import datetime\n",
    "import matplotlib.pyplot as plt"
   ]
  },
  {
   "cell_type": "markdown",
   "metadata": {},
   "source": [
    "## EDA"
   ]
  },
  {
   "cell_type": "markdown",
   "metadata": {},
   "source": [
    "#### Read the log file "
   ]
  },
  {
   "cell_type": "code",
   "execution_count": 2,
   "metadata": {},
   "outputs": [],
   "source": [
    "df = pd.read_csv(\"trackFile2015-03-08.log\",sep=' ',header=None)"
   ]
  },
  {
   "cell_type": "markdown",
   "metadata": {},
   "source": [
    "#### Explore the dataset"
   ]
  },
  {
   "cell_type": "code",
   "execution_count": 3,
   "metadata": {},
   "outputs": [
    {
     "data": {
      "text/html": [
       "<div>\n",
       "<style scoped>\n",
       "    .dataframe tbody tr th:only-of-type {\n",
       "        vertical-align: middle;\n",
       "    }\n",
       "\n",
       "    .dataframe tbody tr th {\n",
       "        vertical-align: top;\n",
       "    }\n",
       "\n",
       "    .dataframe thead th {\n",
       "        text-align: right;\n",
       "    }\n",
       "</style>\n",
       "<table border=\"1\" class=\"dataframe\">\n",
       "  <thead>\n",
       "    <tr style=\"text-align: right;\">\n",
       "      <th></th>\n",
       "      <th>0</th>\n",
       "      <th>1</th>\n",
       "      <th>2</th>\n",
       "      <th>3</th>\n",
       "      <th>4</th>\n",
       "      <th>5</th>\n",
       "      <th>6</th>\n",
       "    </tr>\n",
       "  </thead>\n",
       "  <tbody>\n",
       "    <tr>\n",
       "      <th>0</th>\n",
       "      <td>2015-03-08</td>\n",
       "      <td>10:30:00</td>\n",
       "      <td>NaN</td>\n",
       "      <td>NaN</td>\n",
       "      <td>NaN</td>\n",
       "      <td>NaN</td>\n",
       "      <td>/user841/column-width</td>\n",
       "    </tr>\n",
       "    <tr>\n",
       "      <th>1</th>\n",
       "      <td>2015-03-08</td>\n",
       "      <td>10:30:01</td>\n",
       "      <td>NaN</td>\n",
       "      <td>NaN</td>\n",
       "      <td>NaN</td>\n",
       "      <td>NaN</td>\n",
       "      <td>/user849/connect</td>\n",
       "    </tr>\n",
       "    <tr>\n",
       "      <th>2</th>\n",
       "      <td>2015-03-08</td>\n",
       "      <td>10:30:01</td>\n",
       "      <td>NaN</td>\n",
       "      <td>NaN</td>\n",
       "      <td>NaN</td>\n",
       "      <td>NaN</td>\n",
       "      <td>/user262/open-level2-price</td>\n",
       "    </tr>\n",
       "    <tr>\n",
       "      <th>3</th>\n",
       "      <td>2015-03-08</td>\n",
       "      <td>10:30:01</td>\n",
       "      <td>NaN</td>\n",
       "      <td>NaN</td>\n",
       "      <td>NaN</td>\n",
       "      <td>NaN</td>\n",
       "      <td>/user839/open-detailed-quotes</td>\n",
       "    </tr>\n",
       "    <tr>\n",
       "      <th>4</th>\n",
       "      <td>2015-03-08</td>\n",
       "      <td>10:30:02</td>\n",
       "      <td>NaN</td>\n",
       "      <td>NaN</td>\n",
       "      <td>NaN</td>\n",
       "      <td>NaN</td>\n",
       "      <td>/user145/add-technical-drawing</td>\n",
       "    </tr>\n",
       "  </tbody>\n",
       "</table>\n",
       "</div>"
      ],
      "text/plain": [
       "            0         1   2   3   4   5                               6\n",
       "0  2015-03-08  10:30:00 NaN NaN NaN NaN           /user841/column-width\n",
       "1  2015-03-08  10:30:01 NaN NaN NaN NaN                /user849/connect\n",
       "2  2015-03-08  10:30:01 NaN NaN NaN NaN      /user262/open-level2-price\n",
       "3  2015-03-08  10:30:01 NaN NaN NaN NaN   /user839/open-detailed-quotes\n",
       "4  2015-03-08  10:30:02 NaN NaN NaN NaN  /user145/add-technical-drawing"
      ]
     },
     "execution_count": 3,
     "metadata": {},
     "output_type": "execute_result"
    }
   ],
   "source": [
    "df.head()"
   ]
  },
  {
   "cell_type": "markdown",
   "metadata": {},
   "source": [
    "#### Preprocess the dataset"
   ]
  },
  {
   "cell_type": "code",
   "execution_count": 4,
   "metadata": {},
   "outputs": [],
   "source": [
    "df = df.drop(columns = [2,3,4,5])"
   ]
  },
  {
   "cell_type": "code",
   "execution_count": 5,
   "metadata": {},
   "outputs": [
    {
     "data": {
      "text/html": [
       "<div>\n",
       "<style scoped>\n",
       "    .dataframe tbody tr th:only-of-type {\n",
       "        vertical-align: middle;\n",
       "    }\n",
       "\n",
       "    .dataframe tbody tr th {\n",
       "        vertical-align: top;\n",
       "    }\n",
       "\n",
       "    .dataframe thead th {\n",
       "        text-align: right;\n",
       "    }\n",
       "</style>\n",
       "<table border=\"1\" class=\"dataframe\">\n",
       "  <thead>\n",
       "    <tr style=\"text-align: right;\">\n",
       "      <th></th>\n",
       "      <th>0</th>\n",
       "      <th>1</th>\n",
       "      <th>6</th>\n",
       "    </tr>\n",
       "  </thead>\n",
       "  <tbody>\n",
       "    <tr>\n",
       "      <th>0</th>\n",
       "      <td>2015-03-08</td>\n",
       "      <td>10:30:00</td>\n",
       "      <td>/user841/column-width</td>\n",
       "    </tr>\n",
       "    <tr>\n",
       "      <th>1</th>\n",
       "      <td>2015-03-08</td>\n",
       "      <td>10:30:01</td>\n",
       "      <td>/user849/connect</td>\n",
       "    </tr>\n",
       "    <tr>\n",
       "      <th>2</th>\n",
       "      <td>2015-03-08</td>\n",
       "      <td>10:30:01</td>\n",
       "      <td>/user262/open-level2-price</td>\n",
       "    </tr>\n",
       "    <tr>\n",
       "      <th>3</th>\n",
       "      <td>2015-03-08</td>\n",
       "      <td>10:30:01</td>\n",
       "      <td>/user839/open-detailed-quotes</td>\n",
       "    </tr>\n",
       "    <tr>\n",
       "      <th>4</th>\n",
       "      <td>2015-03-08</td>\n",
       "      <td>10:30:02</td>\n",
       "      <td>/user145/add-technical-drawing</td>\n",
       "    </tr>\n",
       "  </tbody>\n",
       "</table>\n",
       "</div>"
      ],
      "text/plain": [
       "            0         1                               6\n",
       "0  2015-03-08  10:30:00           /user841/column-width\n",
       "1  2015-03-08  10:30:01                /user849/connect\n",
       "2  2015-03-08  10:30:01      /user262/open-level2-price\n",
       "3  2015-03-08  10:30:01   /user839/open-detailed-quotes\n",
       "4  2015-03-08  10:30:02  /user145/add-technical-drawing"
      ]
     },
     "execution_count": 5,
     "metadata": {},
     "output_type": "execute_result"
    }
   ],
   "source": [
    "df.head()"
   ]
  },
  {
   "cell_type": "code",
   "execution_count": 6,
   "metadata": {},
   "outputs": [],
   "source": [
    "df.columns = ['Date','Time','User']"
   ]
  },
  {
   "cell_type": "code",
   "execution_count": 7,
   "metadata": {},
   "outputs": [
    {
     "data": {
      "text/html": [
       "<div>\n",
       "<style scoped>\n",
       "    .dataframe tbody tr th:only-of-type {\n",
       "        vertical-align: middle;\n",
       "    }\n",
       "\n",
       "    .dataframe tbody tr th {\n",
       "        vertical-align: top;\n",
       "    }\n",
       "\n",
       "    .dataframe thead th {\n",
       "        text-align: right;\n",
       "    }\n",
       "</style>\n",
       "<table border=\"1\" class=\"dataframe\">\n",
       "  <thead>\n",
       "    <tr style=\"text-align: right;\">\n",
       "      <th></th>\n",
       "      <th>Date</th>\n",
       "      <th>Time</th>\n",
       "      <th>User</th>\n",
       "    </tr>\n",
       "  </thead>\n",
       "  <tbody>\n",
       "    <tr>\n",
       "      <th>0</th>\n",
       "      <td>2015-03-08</td>\n",
       "      <td>10:30:00</td>\n",
       "      <td>/user841/column-width</td>\n",
       "    </tr>\n",
       "    <tr>\n",
       "      <th>1</th>\n",
       "      <td>2015-03-08</td>\n",
       "      <td>10:30:01</td>\n",
       "      <td>/user849/connect</td>\n",
       "    </tr>\n",
       "    <tr>\n",
       "      <th>2</th>\n",
       "      <td>2015-03-08</td>\n",
       "      <td>10:30:01</td>\n",
       "      <td>/user262/open-level2-price</td>\n",
       "    </tr>\n",
       "    <tr>\n",
       "      <th>3</th>\n",
       "      <td>2015-03-08</td>\n",
       "      <td>10:30:01</td>\n",
       "      <td>/user839/open-detailed-quotes</td>\n",
       "    </tr>\n",
       "    <tr>\n",
       "      <th>4</th>\n",
       "      <td>2015-03-08</td>\n",
       "      <td>10:30:02</td>\n",
       "      <td>/user145/add-technical-drawing</td>\n",
       "    </tr>\n",
       "  </tbody>\n",
       "</table>\n",
       "</div>"
      ],
      "text/plain": [
       "         Date      Time                            User\n",
       "0  2015-03-08  10:30:00           /user841/column-width\n",
       "1  2015-03-08  10:30:01                /user849/connect\n",
       "2  2015-03-08  10:30:01      /user262/open-level2-price\n",
       "3  2015-03-08  10:30:01   /user839/open-detailed-quotes\n",
       "4  2015-03-08  10:30:02  /user145/add-technical-drawing"
      ]
     },
     "execution_count": 7,
     "metadata": {},
     "output_type": "execute_result"
    }
   ],
   "source": [
    "df.head()"
   ]
  },
  {
   "cell_type": "code",
   "execution_count": 8,
   "metadata": {},
   "outputs": [],
   "source": [
    "df['Operation'] = df['User'].apply(lambda x: x.split('/')[-1])\n",
    "df['User'] = df['User'].apply(lambda x: x.split('/')[1])"
   ]
  },
  {
   "cell_type": "code",
   "execution_count": 9,
   "metadata": {},
   "outputs": [
    {
     "data": {
      "text/html": [
       "<div>\n",
       "<style scoped>\n",
       "    .dataframe tbody tr th:only-of-type {\n",
       "        vertical-align: middle;\n",
       "    }\n",
       "\n",
       "    .dataframe tbody tr th {\n",
       "        vertical-align: top;\n",
       "    }\n",
       "\n",
       "    .dataframe thead th {\n",
       "        text-align: right;\n",
       "    }\n",
       "</style>\n",
       "<table border=\"1\" class=\"dataframe\">\n",
       "  <thead>\n",
       "    <tr style=\"text-align: right;\">\n",
       "      <th></th>\n",
       "      <th>Date</th>\n",
       "      <th>Time</th>\n",
       "      <th>User</th>\n",
       "      <th>Operation</th>\n",
       "    </tr>\n",
       "  </thead>\n",
       "  <tbody>\n",
       "    <tr>\n",
       "      <th>0</th>\n",
       "      <td>2015-03-08</td>\n",
       "      <td>10:30:00</td>\n",
       "      <td>user841</td>\n",
       "      <td>column-width</td>\n",
       "    </tr>\n",
       "    <tr>\n",
       "      <th>1</th>\n",
       "      <td>2015-03-08</td>\n",
       "      <td>10:30:01</td>\n",
       "      <td>user849</td>\n",
       "      <td>connect</td>\n",
       "    </tr>\n",
       "    <tr>\n",
       "      <th>2</th>\n",
       "      <td>2015-03-08</td>\n",
       "      <td>10:30:01</td>\n",
       "      <td>user262</td>\n",
       "      <td>open-level2-price</td>\n",
       "    </tr>\n",
       "    <tr>\n",
       "      <th>3</th>\n",
       "      <td>2015-03-08</td>\n",
       "      <td>10:30:01</td>\n",
       "      <td>user839</td>\n",
       "      <td>open-detailed-quotes</td>\n",
       "    </tr>\n",
       "    <tr>\n",
       "      <th>4</th>\n",
       "      <td>2015-03-08</td>\n",
       "      <td>10:30:02</td>\n",
       "      <td>user145</td>\n",
       "      <td>add-technical-drawing</td>\n",
       "    </tr>\n",
       "  </tbody>\n",
       "</table>\n",
       "</div>"
      ],
      "text/plain": [
       "         Date      Time     User              Operation\n",
       "0  2015-03-08  10:30:00  user841           column-width\n",
       "1  2015-03-08  10:30:01  user849                connect\n",
       "2  2015-03-08  10:30:01  user262      open-level2-price\n",
       "3  2015-03-08  10:30:01  user839   open-detailed-quotes\n",
       "4  2015-03-08  10:30:02  user145  add-technical-drawing"
      ]
     },
     "execution_count": 9,
     "metadata": {},
     "output_type": "execute_result"
    }
   ],
   "source": [
    "df.head()"
   ]
  },
  {
   "cell_type": "markdown",
   "metadata": {},
   "source": [
    "#### Plotting the top operations (based on unique users doing the operation)"
   ]
  },
  {
   "cell_type": "code",
   "execution_count": 10,
   "metadata": {},
   "outputs": [],
   "source": [
    "import seaborn as sns"
   ]
  },
  {
   "cell_type": "code",
   "execution_count": 11,
   "metadata": {},
   "outputs": [
    {
     "data": {
      "text/plain": [
       "connect                                     2251\n",
       "filter-changed                              2218\n",
       "open-detailed-quotes                        1250\n",
       "open-chart-center                           1056\n",
       "sort                                         830\n",
       "                                            ... \n",
       "delete-techincal-drawings-single-company       2\n",
       "export-techincal-drawings                      2\n",
       "search                                         1\n",
       "market-watch-save                              1\n",
       "technical-drawing-line-style                   1\n",
       "Name: Operation, Length: 104, dtype: int64"
      ]
     },
     "execution_count": 11,
     "metadata": {},
     "output_type": "execute_result"
    }
   ],
   "source": [
    "df.drop_duplicates(subset=['User','Operation'])['Operation'].value_counts(ascending=False)"
   ]
  },
  {
   "cell_type": "markdown",
   "metadata": {},
   "source": [
    "#### Count of unique users using a particular operation"
   ]
  },
  {
   "cell_type": "code",
   "execution_count": 12,
   "metadata": {
    "scrolled": false
   },
   "outputs": [
    {
     "data": {
      "image/png": "[encoded data removed]",
      "text/plain": [
       "<Figure size 864x720 with 1 Axes>"
      ]
     },
     "metadata": {
      "needs_background": "light"
     },
     "output_type": "display_data"
    }
   ],
   "source": [
    "#find me the most used two operations and the percentage of users using them (for unique users)\n",
    "index  = df.drop_duplicates(subset=['User','Operation'])['Operation'].value_counts(ascending=False)[:2].index\n",
    "values = df.drop_duplicates(subset=['User','Operation'])['Operation'].value_counts(ascending=False)[:2]\n",
    "total_users = len(df['User'].unique())\n",
    "percentages = values/total_users\n",
    "\n",
    "groupedvalues = df.groupby('Operation').sum().reset_index()\n",
    "plt.figure(figsize=(12,10))\n",
    "\n",
    "g = sns.barplot(x=index,y=values,data=groupedvalues)\n",
    "plt.title('Count of unique users per operation')\n",
    "plt.xlabel('Operation')\n",
    "plt.ylabel('Operation Count')\n",
    "\n",
    "\n",
    "ax=g\n",
    "#annotate axis = seaborn axis\n",
    "for p in ax.patches:\n",
    "    ax.annotate(\"%.2f\" % p.get_height(), (p.get_x() + p.get_width() / 2., p.get_height()),\n",
    "                ha='center', va='center', fontsize=11, color='gray', xytext=(0, 20),\n",
    "                textcoords='offset points')\n"
   ]
  },
  {
   "cell_type": "markdown",
   "metadata": {},
   "source": [
    "#### Percentage of users using a particular operation"
   ]
  },
  {
   "cell_type": "code",
   "execution_count": 13,
   "metadata": {},
   "outputs": [
    {
     "data": {
      "image/png": "[encoded data removed]",
      "text/plain": [
       "<Figure size 864x720 with 1 Axes>"
      ]
     },
     "metadata": {
      "needs_background": "light"
     },
     "output_type": "display_data"
    }
   ],
   "source": [
    "plt.figure(figsize=(12,10))\n",
    "\n",
    "g2 = sns.barplot(x=index,y=percentages)\n",
    "plt.title('Percentage of unique users per operation')\n",
    "plt.xlabel('Operation')\n",
    "plt.ylabel('Percentage of Users')\n",
    "\n",
    "\n",
    "ax2=g2\n",
    "#annotate axis = seaborn axis\n",
    "for p in ax2.patches:\n",
    "    ax2.annotate(\"%.2f\" % p.get_height(), (p.get_x() + p.get_width() / 2., p.get_height()),\n",
    "                ha='center', va='center', fontsize=11, color='gray', xytext=(0, 20),\n",
    "                textcoords='offset points')\n",
    "\n",
    "plt.show()"
   ]
  },
  {
   "cell_type": "markdown",
   "metadata": {},
   "source": [
    "## Verification "
   ]
  },
  {
   "cell_type": "code",
   "execution_count": 14,
   "metadata": {},
   "outputs": [
    {
     "data": {
      "text/plain": [
       "filter-changed                   29465\n",
       "connect                          24140\n",
       "open-detailed-quotes              9247\n",
       "sort                              5784\n",
       "interval                          5529\n",
       "                                 ...  \n",
       "technical-drawing-change-dots        3\n",
       "add-company                          3\n",
       "export-techincal-drawings            2\n",
       "technical-drawing-line-style         2\n",
       "search                               1\n",
       "Name: Operation, Length: 104, dtype: int64"
      ]
     },
     "execution_count": 14,
     "metadata": {},
     "output_type": "execute_result"
    }
   ],
   "source": [
    "\n",
    "\n",
    "#check the operations frequency regardless of the user (same user, same operation)\n",
    "#to check if there is a huge discrepancy with our results\n",
    "df['Operation'].value_counts()"
   ]
  },
  {
   "cell_type": "code",
   "execution_count": 15,
   "metadata": {},
   "outputs": [],
   "source": [
    "# check the number of unique users who have carried out the operation connect"
   ]
  },
  {
   "cell_type": "code",
   "execution_count": 16,
   "metadata": {},
   "outputs": [
    {
     "data": {
      "text/plain": [
       "2251"
      ]
     },
     "execution_count": 16,
     "metadata": {},
     "output_type": "execute_result"
    }
   ],
   "source": [
    "len(df[df['Operation'] == 'connect']['User'].unique())"
   ]
  },
  {
   "cell_type": "code",
   "execution_count": 17,
   "metadata": {},
   "outputs": [],
   "source": [
    "# Check the number of unique users who have carreid out the operation filter-changed"
   ]
  },
  {
   "cell_type": "code",
   "execution_count": 18,
   "metadata": {},
   "outputs": [
    {
     "data": {
      "text/plain": [
       "2218"
      ]
     },
     "execution_count": 18,
     "metadata": {},
     "output_type": "execute_result"
    }
   ],
   "source": [
    "len(df[df['Operation'] == 'filter-changed']['User'].unique())"
   ]
  },
  {
   "cell_type": "code",
   "execution_count": 19,
   "metadata": {},
   "outputs": [],
   "source": [
    "# Validate the data conform to the metadata requirements\n",
    "\n",
    "df_raw = pd.read_csv(\"trackFile2015-03-08.log\",sep=' ',header=None)"
   ]
  },
  {
   "cell_type": "code",
   "execution_count": 20,
   "metadata": {},
   "outputs": [
    {
     "data": {
      "text/html": [
       "<div>\n",
       "<style scoped>\n",
       "    .dataframe tbody tr th:only-of-type {\n",
       "        vertical-align: middle;\n",
       "    }\n",
       "\n",
       "    .dataframe tbody tr th {\n",
       "        vertical-align: top;\n",
       "    }\n",
       "\n",
       "    .dataframe thead th {\n",
       "        text-align: right;\n",
       "    }\n",
       "</style>\n",
       "<table border=\"1\" class=\"dataframe\">\n",
       "  <thead>\n",
       "    <tr style=\"text-align: right;\">\n",
       "      <th></th>\n",
       "      <th>0</th>\n",
       "      <th>1</th>\n",
       "      <th>2</th>\n",
       "      <th>3</th>\n",
       "      <th>4</th>\n",
       "      <th>5</th>\n",
       "      <th>6</th>\n",
       "    </tr>\n",
       "  </thead>\n",
       "  <tbody>\n",
       "    <tr>\n",
       "      <th>0</th>\n",
       "      <td>2015-03-08</td>\n",
       "      <td>10:30:00</td>\n",
       "      <td>NaN</td>\n",
       "      <td>NaN</td>\n",
       "      <td>NaN</td>\n",
       "      <td>NaN</td>\n",
       "      <td>/user841/column-width</td>\n",
       "    </tr>\n",
       "    <tr>\n",
       "      <th>1</th>\n",
       "      <td>2015-03-08</td>\n",
       "      <td>10:30:01</td>\n",
       "      <td>NaN</td>\n",
       "      <td>NaN</td>\n",
       "      <td>NaN</td>\n",
       "      <td>NaN</td>\n",
       "      <td>/user849/connect</td>\n",
       "    </tr>\n",
       "    <tr>\n",
       "      <th>2</th>\n",
       "      <td>2015-03-08</td>\n",
       "      <td>10:30:01</td>\n",
       "      <td>NaN</td>\n",
       "      <td>NaN</td>\n",
       "      <td>NaN</td>\n",
       "      <td>NaN</td>\n",
       "      <td>/user262/open-level2-price</td>\n",
       "    </tr>\n",
       "    <tr>\n",
       "      <th>3</th>\n",
       "      <td>2015-03-08</td>\n",
       "      <td>10:30:01</td>\n",
       "      <td>NaN</td>\n",
       "      <td>NaN</td>\n",
       "      <td>NaN</td>\n",
       "      <td>NaN</td>\n",
       "      <td>/user839/open-detailed-quotes</td>\n",
       "    </tr>\n",
       "    <tr>\n",
       "      <th>4</th>\n",
       "      <td>2015-03-08</td>\n",
       "      <td>10:30:02</td>\n",
       "      <td>NaN</td>\n",
       "      <td>NaN</td>\n",
       "      <td>NaN</td>\n",
       "      <td>NaN</td>\n",
       "      <td>/user145/add-technical-drawing</td>\n",
       "    </tr>\n",
       "  </tbody>\n",
       "</table>\n",
       "</div>"
      ],
      "text/plain": [
       "            0         1   2   3   4   5                               6\n",
       "0  2015-03-08  10:30:00 NaN NaN NaN NaN           /user841/column-width\n",
       "1  2015-03-08  10:30:01 NaN NaN NaN NaN                /user849/connect\n",
       "2  2015-03-08  10:30:01 NaN NaN NaN NaN      /user262/open-level2-price\n",
       "3  2015-03-08  10:30:01 NaN NaN NaN NaN   /user839/open-detailed-quotes\n",
       "4  2015-03-08  10:30:02 NaN NaN NaN NaN  /user145/add-technical-drawing"
      ]
     },
     "execution_count": 20,
     "metadata": {},
     "output_type": "execute_result"
    }
   ],
   "source": [
    "df_raw.head()"
   ]
  },
  {
   "cell_type": "code",
   "execution_count": 21,
   "metadata": {},
   "outputs": [
    {
     "data": {
      "text/plain": [
       "0     object\n",
       "1     object\n",
       "2    float64\n",
       "3    float64\n",
       "4    float64\n",
       "5    float64\n",
       "6     object\n",
       "dtype: object"
      ]
     },
     "execution_count": 21,
     "metadata": {},
     "output_type": "execute_result"
    }
   ],
   "source": [
    "df_raw.dtypes"
   ]
  },
  {
   "cell_type": "code",
   "execution_count": 22,
   "metadata": {},
   "outputs": [
    {
     "data": {
      "text/plain": [
       "((111233, 7), (111233, 4))"
      ]
     },
     "execution_count": 22,
     "metadata": {},
     "output_type": "execute_result"
    }
   ],
   "source": [
    "df_raw.shape, df.shape #no missing entries in the preprocessed file"
   ]
  },
  {
   "cell_type": "code",
   "execution_count": 23,
   "metadata": {},
   "outputs": [
    {
     "data": {
      "text/plain": [
       "True"
      ]
     },
     "execution_count": 23,
     "metadata": {},
     "output_type": "execute_result"
    }
   ],
   "source": [
    "# validate all entries of /user/operation records conform to the given format\n",
    "all(df_raw[6].apply(lambda x: len(x.split('/')) == 3) )"
   ]
  },
  {
   "cell_type": "code",
   "execution_count": 24,
   "metadata": {},
   "outputs": [
    {
     "data": {
      "text/plain": [
       "Date         0\n",
       "Time         0\n",
       "User         0\n",
       "Operation    0\n",
       "dtype: int64"
      ]
     },
     "execution_count": 24,
     "metadata": {},
     "output_type": "execute_result"
    }
   ],
   "source": [
    "# Check null values\n",
    "df.isna().sum()"
   ]
  },
  {
   "cell_type": "code",
   "execution_count": 25,
   "metadata": {},
   "outputs": [
    {
     "data": {
      "text/plain": [
       "0         0\n",
       "1         0\n",
       "2    111233\n",
       "3    111233\n",
       "4    111233\n",
       "5    111233\n",
       "6         0\n",
       "dtype: int64"
      ]
     },
     "execution_count": 25,
     "metadata": {},
     "output_type": "execute_result"
    }
   ],
   "source": [
    "df_raw.isna().sum()"
   ]
  },
  {
   "cell_type": "markdown",
   "metadata": {},
   "source": [
    "## Time Complexity"
   ]
  },
  {
   "cell_type": "code",
   "execution_count": 26,
   "metadata": {},
   "outputs": [],
   "source": [
    "# The time issue"
   ]
  },
  {
   "cell_type": "code",
   "execution_count": 27,
   "metadata": {},
   "outputs": [],
   "source": [
    "# timing the operation to extract the results"
   ]
  },
  {
   "cell_type": "code",
   "execution_count": 28,
   "metadata": {},
   "outputs": [],
   "source": [
    "# Create functions to encapsulate the logic and time each function\n",
    "\n",
    "def preprocess(path):\n",
    "    '''Preprocess the log file and prepare it for further analysis'''\n",
    "    t0 = datetime.now()\n",
    "    df_ = pd.read_csv(path,sep=' ',header=None)\n",
    "    df_ = df_.drop(columns = [2,3,4,5])\n",
    "    df_.columns = ['Date','Time','User']\n",
    "    df_['Operation'] = df_['User'].apply(lambda x: x.split('/')[-1])\n",
    "    df_['User'] = df_['User'].apply(lambda x: x.split('/')[1])\n",
    "    print(f\"The time taken to preprocess the file is: {datetime.now() - t0} seconds\")\n",
    "    return df\n",
    "\n",
    "def get_top_k_ops_count(df,k):\n",
    "    '''Plot the top k operations'''\n",
    "    t0 = datetime.now()\n",
    "    index  = df.drop_duplicates(subset=['User','Operation'])['Operation'].value_counts(ascending=False)[:k].index\n",
    "    values = df.drop_duplicates(subset=['User','Operation'])['Operation'].value_counts(ascending=False)[:k]\n",
    "    \n",
    "\n",
    "    groupedvalues = df.groupby('Operation').sum().reset_index()\n",
    "    plt.figure(figsize=(12,10))\n",
    "\n",
    "    g = sns.barplot(x=index,y=values,data=groupedvalues)\n",
    "    plt.title('Count of unique users per operation')\n",
    "    plt.xlabel('Operation')\n",
    "    plt.ylabel('Operation Count')\n",
    "    plt.xticks(rotation = 45)\n",
    "\n",
    "\n",
    "    \n",
    "    ax=g\n",
    "    #annotate axis = seaborn axis\n",
    "    for p in ax.patches:\n",
    "        ax.annotate(\"%.2f\" % p.get_height(), (p.get_x() + p.get_width() / 2., p.get_height()),\n",
    "                    ha='center', va='center', fontsize=11, color='gray', xytext=(0, 20),\n",
    "                    textcoords='offset points')\n",
    "\n",
    "    print(f\"The time taken to plot the results: {datetime.now() - t0} seconds\")\n",
    "    \n",
    "def get_top_k_ops_percentage(df,k):\n",
    "    t0 = datetime.now()\n",
    "    index  = df.drop_duplicates(subset=['User','Operation'])['Operation'].value_counts(ascending=False)[:k].index\n",
    "    values = df.drop_duplicates(subset=['User','Operation'])['Operation'].value_counts(ascending=False)[:k]\n",
    "    total_users = len(df['User'].unique())\n",
    "    percentages = values/total_users\n",
    "    \n",
    "    plt.figure(figsize=(12,10))\n",
    "\n",
    "    g2 = sns.barplot(x=index,y=percentages)\n",
    "    plt.title('Percentage of unique users per operation')\n",
    "    plt.xlabel('Operation')\n",
    "    plt.ylabel('Percentage of Users')\n",
    "    plt.xticks(rotation = 45)\n",
    "\n",
    "\n",
    "    ax2=g2\n",
    "    #annotate axis = seaborn axis\n",
    "    for p in ax2.patches:\n",
    "        ax2.annotate(\"%.2f\" % p.get_height(), (p.get_x() + p.get_width() / 2., p.get_height()),\n",
    "                    ha='center', va='center', fontsize=11, color='gray', xytext=(0, 20),\n",
    "                    textcoords='offset points')\n",
    "\n",
    "    plt.show()\n",
    "    print(f\"The time taken to plot the results: {datetime.now() - t0} seconds\")\n"
   ]
  },
  {
   "cell_type": "markdown",
   "metadata": {},
   "source": [
    "#### Timinig the dataset preprocessing"
   ]
  },
  {
   "cell_type": "code",
   "execution_count": 29,
   "metadata": {},
   "outputs": [
    {
     "name": "stdout",
     "output_type": "stream",
     "text": [
      "The time taken to preprocess the file is: 0:00:00.174562 seconds\n"
     ]
    }
   ],
   "source": [
    "df_preprocessed = preprocess(\"trackFile2015-03-08.log\")"
   ]
  },
  {
   "cell_type": "code",
   "execution_count": 37,
   "metadata": {},
   "outputs": [],
   "source": [
    "#It took milliseconds "
   ]
  },
  {
   "cell_type": "code",
   "execution_count": 31,
   "metadata": {},
   "outputs": [
    {
     "data": {
      "text/html": [
       "<div>\n",
       "<style scoped>\n",
       "    .dataframe tbody tr th:only-of-type {\n",
       "        vertical-align: middle;\n",
       "    }\n",
       "\n",
       "    .dataframe tbody tr th {\n",
       "        vertical-align: top;\n",
       "    }\n",
       "\n",
       "    .dataframe thead th {\n",
       "        text-align: right;\n",
       "    }\n",
       "</style>\n",
       "<table border=\"1\" class=\"dataframe\">\n",
       "  <thead>\n",
       "    <tr style=\"text-align: right;\">\n",
       "      <th></th>\n",
       "      <th>Date</th>\n",
       "      <th>Time</th>\n",
       "      <th>User</th>\n",
       "      <th>Operation</th>\n",
       "    </tr>\n",
       "  </thead>\n",
       "  <tbody>\n",
       "    <tr>\n",
       "      <th>0</th>\n",
       "      <td>2015-03-08</td>\n",
       "      <td>10:30:00</td>\n",
       "      <td>user841</td>\n",
       "      <td>column-width</td>\n",
       "    </tr>\n",
       "    <tr>\n",
       "      <th>1</th>\n",
       "      <td>2015-03-08</td>\n",
       "      <td>10:30:01</td>\n",
       "      <td>user849</td>\n",
       "      <td>connect</td>\n",
       "    </tr>\n",
       "    <tr>\n",
       "      <th>2</th>\n",
       "      <td>2015-03-08</td>\n",
       "      <td>10:30:01</td>\n",
       "      <td>user262</td>\n",
       "      <td>open-level2-price</td>\n",
       "    </tr>\n",
       "    <tr>\n",
       "      <th>3</th>\n",
       "      <td>2015-03-08</td>\n",
       "      <td>10:30:01</td>\n",
       "      <td>user839</td>\n",
       "      <td>open-detailed-quotes</td>\n",
       "    </tr>\n",
       "    <tr>\n",
       "      <th>4</th>\n",
       "      <td>2015-03-08</td>\n",
       "      <td>10:30:02</td>\n",
       "      <td>user145</td>\n",
       "      <td>add-technical-drawing</td>\n",
       "    </tr>\n",
       "  </tbody>\n",
       "</table>\n",
       "</div>"
      ],
      "text/plain": [
       "         Date      Time     User              Operation\n",
       "0  2015-03-08  10:30:00  user841           column-width\n",
       "1  2015-03-08  10:30:01  user849                connect\n",
       "2  2015-03-08  10:30:01  user262      open-level2-price\n",
       "3  2015-03-08  10:30:01  user839   open-detailed-quotes\n",
       "4  2015-03-08  10:30:02  user145  add-technical-drawing"
      ]
     },
     "execution_count": 31,
     "metadata": {},
     "output_type": "execute_result"
    }
   ],
   "source": [
    "df_preprocessed.head()"
   ]
  },
  {
   "cell_type": "markdown",
   "metadata": {},
   "source": [
    "#### Timing ploting the percentage of users"
   ]
  },
  {
   "cell_type": "code",
   "execution_count": 32,
   "metadata": {},
   "outputs": [
    {
     "data": {
      "image/png": "[encoded data removed]",
      "text/plain": [
       "<Figure size 864x720 with 1 Axes>"
      ]
     },
     "metadata": {
      "needs_background": "light"
     },
     "output_type": "display_data"
    },
    {
     "name": "stdout",
     "output_type": "stream",
     "text": [
      "The time taken to plot the results: 0:00:00.215414 seconds\n"
     ]
    }
   ],
   "source": [
    "get_top_k_ops_percentage(df_preprocessed,2)"
   ]
  },
  {
   "cell_type": "code",
   "execution_count": 33,
   "metadata": {},
   "outputs": [
    {
     "data": {
      "image/png": "[encoded data removed]",
      "text/plain": [
       "<Figure size 864x720 with 1 Axes>"
      ]
     },
     "metadata": {
      "needs_background": "light"
     },
     "output_type": "display_data"
    },
    {
     "name": "stdout",
     "output_type": "stream",
     "text": [
      "The time taken to plot the results: 0:00:00.225376 seconds\n"
     ]
    }
   ],
   "source": [
    "get_top_k_ops_percentage(df_preprocessed,3)"
   ]
  },
  {
   "cell_type": "markdown",
   "metadata": {},
   "source": [
    "#### Timing ploting the count of users"
   ]
  },
  {
   "cell_type": "code",
   "execution_count": 34,
   "metadata": {},
   "outputs": [
    {
     "name": "stdout",
     "output_type": "stream",
     "text": [
      "The time taken to plot the results: 0:00:01.936808 seconds\n"
     ]
    },
    {
     "data": {
      "image/png": "[encoded data removed]",
      "text/plain": [
       "<Figure size 864x720 with 1 Axes>"
      ]
     },
     "metadata": {
      "needs_background": "light"
     },
     "output_type": "display_data"
    }
   ],
   "source": [
    "get_top_k_ops_count(df_preprocessed,2)"
   ]
  },
  {
   "cell_type": "code",
   "execution_count": 35,
   "metadata": {},
   "outputs": [
    {
     "name": "stdout",
     "output_type": "stream",
     "text": [
      "The time taken to plot the results: 0:00:01.825126 seconds\n"
     ]
    },
    {
     "data": {
      "image/png": "[encoded data removed]",
      "text/plain": [
       "<Figure size 864x720 with 1 Axes>"
      ]
     },
     "metadata": {
      "needs_background": "light"
     },
     "output_type": "display_data"
    }
   ],
   "source": [
    "get_top_k_ops_count(df_preprocessed,4)"
   ]
  },
  {
   "cell_type": "code",
   "execution_count": 38,
   "metadata": {},
   "outputs": [],
   "source": [
    "# All operations, i.e. preprocessing and plotting scale linearly with k (Time complexity is great!)"
   ]
  }
 ],
 "metadata": {
  "kernelspec": {
   "display_name": "Python 3",
   "language": "python",
   "name": "python3"
  },
  "language_info": {
   "codemirror_mode": {
    "name": "ipython",
    "version": 3
   },
   "file_extension": ".py",
   "mimetype": "text/x-python",
   "name": "python",
   "nbconvert_exporter": "python",
   "pygments_lexer": "ipython3",
   "version": "3.8.5"
  }
 },
 "nbformat": 4,
 "nbformat_minor": 4
}
